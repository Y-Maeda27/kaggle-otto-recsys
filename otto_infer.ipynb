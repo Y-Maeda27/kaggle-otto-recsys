{
 "cells": [
  {
   "cell_type": "code",
   "execution_count": null,
   "id": "1c18858f-9887-49c6-b671-fb507754046b",
   "metadata": {},
   "outputs": [],
   "source": [
    "!pip install polars"
   ]
  },
  {
   "cell_type": "code",
   "execution_count": null,
   "id": "df9af673-1579-47d3-a4b3-377f4629e512",
   "metadata": {},
   "outputs": [],
   "source": [
    "import polars as pl\n",
    "import pandas as pd\n",
    "pd.set_option('display.max_rows', 50)\n",
    "import numpy as np\n",
    "import math\n",
    "from lightgbm.sklearn import LGBMRanker\n",
    "import matplotlib.pyplot as plt\n",
    "%matplotlib inline\n",
    "from catboost import Pool, CatBoostRanker\n",
    "import xgboost as xgb\n",
    "import gc"
   ]
  },
  {
   "cell_type": "code",
   "execution_count": null,
   "id": "96bf10a3-43f9-4b78-97ea-6faa54966c26",
   "metadata": {},
   "outputs": [],
   "source": [
    "def down_sampling(df, nega_posi_ratio):\n",
    "    sampled_negative = df.filter(pl.col('gt')==0).sample(nega_posi_ratio*df['gt'].sum(), seed=0)\n",
    "    return pl.concat([df.filter(pl.col('gt')==1), sampled_negative])\n",
    "\n",
    "def infer_gbranker(test, gbranker, feature, nsplit):\n",
    "    chunk_size = math.ceil(len(test) / nsplit)\n",
    "    chunks = []\n",
    "    for i in range(nsplit):\n",
    "        start = i * chunk_size\n",
    "        end = min((i+1) * chunk_size, len(test))\n",
    "        score = gbranker.predict(test[start:end][feature].to_pandas())\n",
    "        # score = gbranker.predict(xgb.DMatrix(test[start:end][feature].to_numpy()))\n",
    "        chunks.append(test[start:end][['session', 'aid']].with_column(pl.Series(score).alias('score').cast(pl.Float32)))\n",
    "    return pl.concat(chunks) "
   ]
  },
  {
   "cell_type": "code",
   "execution_count": null,
   "id": "50688027-c90e-4fb4-95d8-f8e54d067e4e",
   "metadata": {},
   "outputs": [],
   "source": [
    "%%time\n",
    "# max_depth = {'click':7, 'cart':6, 'order':7}\n",
    "# randam forest best parameters\n",
    "# n_estimators = {'click':600, 'cart':600, 'order':600}\n",
    "# max_depth = {'click':14, 'cart':15, 'order':15}\n",
    "# num_leaves = {'click':11267, 'cart':21454, 'order':18287}\n",
    "# bagging_fraction = {'click':0.12562664982574, 'cart':0.8820039657877258, 'order':0.7327477237093407}\n",
    "# feature_fraction = {'click':0.6869763784883627, 'cart':0.5869260228060384, 'order':0.4308816079881996}\n",
    "nega_posi_ratio = {'click':10, 'cart':20, 'order':20}\n",
    "pred = {}\n",
    "for action_type in ['order', 'cart', 'click']:\n",
    "    train = pl.read_parquet(f'train_{action_type}.parquet')\n",
    "    train = down_sampling(train, nega_posi_ratio[action_type])\n",
    "    session_lengths_train = train.groupby('session').count().sort('session')['count'].to_list()\n",
    "    train = train.sort('session')\n",
    "\n",
    "    feature = train.drop([\n",
    "                    'session', \n",
    "                    'aid', \n",
    "                    'gt',\n",
    "                    'user_order'\n",
    "                ]).columns   \n",
    "\n",
    "#     params = {\n",
    "#         'loss_function':'YetiRank',\n",
    "#         'iterations':n_estimators[action_type],\n",
    "#         'learning_rate':0.1,\n",
    "#         'random_seed':100\n",
    "#     }\n",
    "    \n",
    "#     train_pool = Pool(data=train[feature].to_numpy(), label=train['gt'].to_numpy(), group_id=train['session'].to_numpy())\n",
    "#     ranker = CatBoostRanker(**params)\n",
    "#     ranker.fit(\n",
    "#         train_pool\n",
    "#     )\n",
    "    \n",
    "#     train_dataset = xgb.DMatrix(data=train[feature].to_numpy(), label=train['gt'].to_numpy(), group=session_lengths_train)\n",
    "    \n",
    "#     params = {\n",
    "#         'booster':'gbtree',\n",
    "#         'objective':'rank:pairwise',\n",
    "#         'random_state':100,\n",
    "#         'learning_rate':0.1\n",
    "#     }\n",
    "    \n",
    "#     ranker = xgb.train(\n",
    "#         params,\n",
    "#         train_dataset,\n",
    "#         num_boost_round=n_estimators[action_type]\n",
    "#     )\n",
    "\n",
    "    params = {\n",
    "        'boosting_type':'gbdt',\n",
    "        'objective':'lambdarank',\n",
    "        'metric':'\"None\"',\n",
    "        'learning_rate':0.05,\n",
    "        'num_boost_round':500,\n",
    "        'max_depth':6,\n",
    "        'num_leaves':32,\n",
    "        'min_child_samples':471,\n",
    "        'reg_alpha':0.06786952863490345,\n",
    "        'reg_lambda':0.0013212485115586014,\n",
    "        'random_state':500,\n",
    "        'bagging_fraction': 0.877462547767822,\n",
    "        'feature_fraction': 0.37792222260319913,\n",
    "        'bagging_freq': 1\n",
    "    }\n",
    "    \n",
    "    ranker = LGBMRanker(\n",
    "        **params\n",
    "        # objective=\"lambdarank\",\n",
    "        # metric=\"ndcg\",\n",
    "        # boosting_type=\"rf\",\n",
    "        # learning_rate=0.1,\n",
    "        # max_depth=max_depth[action_type],\n",
    "        # num_leaves=num_leaves[action_type],\n",
    "        # bagging_fraction=bagging_fraction[action_type],\n",
    "        # bagging_freq=1,\n",
    "        # feature_fraction=feature_fraction[action_type],\n",
    "        # n_estimators=n_estimators[action_type],\n",
    "        # random_state=400\n",
    "        # importance_type='gain'\n",
    "    )\n",
    "    \n",
    "    ranker = ranker.fit(\n",
    "        train[feature].to_pandas(),\n",
    "        train['gt'].to_pandas(),\n",
    "        group=session_lengths_train,\n",
    "    )\n",
    "    \n",
    "    del train\n",
    "    \n",
    "    test = pl.read_parquet(f'test_{action_type}.parquet')\n",
    "    test = infer_gbranker(test, ranker, feature, 2)\n",
    "    \n",
    "    pred[action_type] = test.sort(['session', 'score'], reverse=[False, True]).groupby('session', maintain_order=True).agg(pl.col('aid').head(20))\n",
    "    pred[action_type] = pred[action_type].with_columns([pl.col('session').apply(lambda x:str(x)+f'_{action_type}s'), pl.col('aid').apply(lambda x:' '.join(map(str, x.to_list())))])\n",
    "    pred[action_type].write_parquet(f'pred_{action_type}.parquet')\n",
    "    del test\n",
    "    gc.collect()"
   ]
  },
  {
   "cell_type": "code",
   "execution_count": null,
   "id": "446ea0a3-2019-407d-aa89-48f5f7d56b83",
   "metadata": {},
   "outputs": [],
   "source": [
    "submission = pl.concat([pred['click'], pred['cart'], pred['order']]).rename({'session':'session_type', 'aid':'labels'})\n",
    "submission"
   ]
  },
  {
   "cell_type": "code",
   "execution_count": null,
   "id": "a64ee379-611f-47dd-905d-d9bb2c4beccd",
   "metadata": {},
   "outputs": [],
   "source": [
    "submission.write_csv('submission.csv')"
   ]
  },
  {
   "cell_type": "code",
   "execution_count": null,
   "id": "13f76eab-3986-43f2-8cc1-9af283c3bd2a",
   "metadata": {},
   "outputs": [],
   "source": [
    "!mkdir /root/.kaggle\n",
    "!cp kaggle.json /root/.kaggle/"
   ]
  },
  {
   "cell_type": "code",
   "execution_count": null,
   "id": "ac1c5ae6-196e-4dee-8fac-a994314cf2d9",
   "metadata": {},
   "outputs": [],
   "source": [
    "!zip -r submission.zip submission.csv"
   ]
  },
  {
   "cell_type": "code",
   "execution_count": null,
   "id": "8f495113-4693-48ba-a3bb-c9bda52c37c8",
   "metadata": {},
   "outputs": [],
   "source": [
    "!kaggle competitions submit -c otto-recommender-system -f submission.zip -m submit_by_kaggle_api"
   ]
  },
  {
   "cell_type": "code",
   "execution_count": null,
   "id": "985fd28e-945a-48d2-a60b-9daf0df084d3",
   "metadata": {},
   "outputs": [],
   "source": []
  }
 ],
 "metadata": {
  "kernelspec": {
   "display_name": "Python 3 (ipykernel)",
   "language": "python",
   "name": "python3"
  },
  "language_info": {
   "codemirror_mode": {
    "name": "ipython",
    "version": 3
   },
   "file_extension": ".py",
   "mimetype": "text/x-python",
   "name": "python",
   "nbconvert_exporter": "python",
   "pygments_lexer": "ipython3",
   "version": "3.7.12"
  }
 },
 "nbformat": 4,
 "nbformat_minor": 5
}
