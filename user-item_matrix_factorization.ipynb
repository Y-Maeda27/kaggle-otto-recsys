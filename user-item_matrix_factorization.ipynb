{
 "cells": [
  {
   "cell_type": "code",
   "execution_count": null,
   "id": "2d2b7745-8ad4-46da-a0a4-972c8a618a9b",
   "metadata": {},
   "outputs": [],
   "source": [
    "!pip install polars"
   ]
  },
  {
   "cell_type": "code",
   "execution_count": null,
   "id": "5da72040-8271-4d25-96b8-da2e72fe494b",
   "metadata": {},
   "outputs": [],
   "source": [
    "import polars as pl\n",
    "import numpy as np\n",
    "import implicit\n",
    "from scipy.sparse import csr_matrix"
   ]
  },
  {
   "cell_type": "code",
   "execution_count": null,
   "id": "838999a6-8fc7-43bd-8a90-49d5238e61be",
   "metadata": {},
   "outputs": [],
   "source": [
    "df_train = pl.read_parquet('input/Otto_Full_Optimized_Memory_Footprint/train.parquet')\n",
    "df_test = pl.read_parquet('input/Otto_Full_Optimized_Memory_Footprint/test.parquet')\n",
    "# df_train = pl.read_parquet('input/otto_train_and_test_data_for_local_validation/train.parquet')\n",
    "# df_test = pl.read_parquet('input/otto_train_and_test_data_for_local_validation/test.parquet')\n",
    "df = pl.concat([df_train, df_test])"
   ]
  },
  {
   "cell_type": "code",
   "execution_count": null,
   "id": "81b26834-d31f-4609-ad88-1b193a1490f2",
   "metadata": {},
   "outputs": [],
   "source": [
    "naids = df['aid'].max() + 1\n",
    "nsessions = df['session'].max() + 1\n",
    "naids, nsessions"
   ]
  },
  {
   "cell_type": "code",
   "execution_count": null,
   "id": "6ea03514-860d-40d7-a0d3-b93afc8ad88d",
   "metadata": {},
   "outputs": [],
   "source": [
    "type_weight = {0:1, 1:2, 2:4}\n",
    "df = df.drop('ts').unique(subset=['session', 'aid', 'type'])\n",
    "df = df.with_column(pl.col('type').apply(lambda x:type_weight[x]).alias('wgt'))"
   ]
  },
  {
   "cell_type": "code",
   "execution_count": null,
   "id": "76fad254-af37-40b8-99e3-05e74658f7aa",
   "metadata": {},
   "outputs": [],
   "source": [
    "df = df.with_column(pl.col('wgt').cast(pl.UInt8))\n",
    "df = df.groupby(['session', 'aid']).agg(pl.col('wgt').sum())"
   ]
  },
  {
   "cell_type": "code",
   "execution_count": null,
   "id": "4c7663fb-f9b7-4b16-858d-656dbecef7ed",
   "metadata": {},
   "outputs": [],
   "source": [
    "df = df.sort(['aid', 'session'])"
   ]
  },
  {
   "cell_type": "code",
   "execution_count": null,
   "id": "a98b12a0-4c04-4d93-8d51-6ed7a5ed29b6",
   "metadata": {},
   "outputs": [],
   "source": [
    "df"
   ]
  },
  {
   "cell_type": "code",
   "execution_count": null,
   "id": "6914a399-e2ce-4a8a-8336-1eabd8e7b457",
   "metadata": {},
   "outputs": [],
   "source": [
    "row = df['aid'].to_numpy()\n",
    "col = df['session'].to_numpy()\n",
    "data = df['wgt'].to_numpy()"
   ]
  },
  {
   "cell_type": "code",
   "execution_count": null,
   "id": "cea7f5d6-f197-4549-b21f-ba3e250331c8",
   "metadata": {},
   "outputs": [],
   "source": [
    "csr = csr_matrix((data, (row, col)), shape=(naids, nsessions), dtype=np.int32)"
   ]
  },
  {
   "cell_type": "code",
   "execution_count": null,
   "id": "add25266-d5c7-48a0-9ab2-95ad2a9657f1",
   "metadata": {},
   "outputs": [],
   "source": [
    "# model = implicit.bpr.BayesianPersonalizedRanking(factors=100, num_threads=4, iterations=300)\n",
    "# model = implicit.als.AlternatingLeastSquares(factors=50, num_threads=16, iterations=15)\n",
    "model = implicit.lmf.LogisticMatrixFactorization(factors=100, num_threads=16, iterations=90)"
   ]
  },
  {
   "cell_type": "code",
   "execution_count": null,
   "id": "e687a86e-dc9f-4c42-ba94-f523cef9b439",
   "metadata": {},
   "outputs": [],
   "source": [
    "%%time\n",
    "model.fit(csr)"
   ]
  },
  {
   "cell_type": "code",
   "execution_count": null,
   "id": "ddf2c7c7-0124-423f-a87a-9e8837b16602",
   "metadata": {},
   "outputs": [],
   "source": [
    "import gc\n",
    "del df\n",
    "gc.collect()"
   ]
  },
  {
   "cell_type": "code",
   "execution_count": null,
   "id": "c215e0b5-0e18-4963-b760-e9ae38b6fc96",
   "metadata": {},
   "outputs": [],
   "source": [
    "!mkdir input/embedding_lmf_test"
   ]
  },
  {
   "cell_type": "code",
   "execution_count": null,
   "id": "5942f92b-67a0-4e60-9608-b92e13684a30",
   "metadata": {},
   "outputs": [],
   "source": [
    "np.save('input/embedding_lmf_test/user_factors.npy', model.user_factors)\n",
    "np.save('input/embedding_lmf_test/item_factors.npy', model.item_factors)"
   ]
  },
  {
   "cell_type": "code",
   "execution_count": null,
   "id": "46f2299c-56d4-424b-b394-1486205f769d",
   "metadata": {},
   "outputs": [],
   "source": []
  }
 ],
 "metadata": {
  "kernelspec": {
   "display_name": "Python 3 (ipykernel)",
   "language": "python",
   "name": "python3"
  },
  "language_info": {
   "codemirror_mode": {
    "name": "ipython",
    "version": 3
   },
   "file_extension": ".py",
   "mimetype": "text/x-python",
   "name": "python",
   "nbconvert_exporter": "python",
   "pygments_lexer": "ipython3",
   "version": "3.7.12"
  }
 },
 "nbformat": 4,
 "nbformat_minor": 5
}
