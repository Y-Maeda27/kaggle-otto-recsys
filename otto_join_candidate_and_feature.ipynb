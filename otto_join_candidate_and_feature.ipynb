{
 "cells": [
  {
   "cell_type": "code",
   "execution_count": null,
   "id": "0af7a34e-050f-4809-9bae-e488544135fb",
   "metadata": {},
   "outputs": [],
   "source": [
    "!pip install polars"
   ]
  },
  {
   "cell_type": "code",
   "execution_count": 1,
   "id": "e6fccf0e-69f4-42bc-b78a-2e18128c111f",
   "metadata": {},
   "outputs": [],
   "source": [
    "import polars as pl\n",
    "pl.Config.set_tbl_rows(30)\n",
    "import numpy as np\n",
    "import gc"
   ]
  },
  {
   "cell_type": "code",
   "execution_count": 2,
   "id": "0b3020dc-0738-44be-9372-f9512b9eeab9",
   "metadata": {},
   "outputs": [],
   "source": [
    "def join_candidate_and_feature(phase):\n",
    "    \"\"\"\n",
    "    otto_candidate.ipynbで作成した候補DataFrameとotto_feature.ipynbで作成した特徴量DataFrameを結合させる\n",
    "    \"\"\"\n",
    "    \n",
    "    user_feature = pl.read_parquet(f'user_feature_{phase}.parquet')\n",
    "    item_feature = pl.read_parquet(f'item_feature_{phase}.parquet')\n",
    "    user_item_feature = pl.read_parquet(f'user_item_feature_{phase}.parquet')\n",
    "    \n",
    "    for t in ['click', 'cart', 'order']:\n",
    "    \n",
    "        df = pl.read_parquet(f'candidate_{t}_{phase}.parquet')\n",
    "\n",
    "        if phase == 'train':\n",
    "            train_label = pl.read_parquet('input/otto_train_and_test_data_for_local_validation/test_labels.parquet')\n",
    "            train_label = train_label.explode('ground_truth').rename({'ground_truth':'aid'})\n",
    "            train_label = train_label.with_column(pl.lit(1).alias('gt'))\n",
    "            train_label = train_label.with_column(pl.col(['session', 'aid']).cast(pl.Int32))\n",
    "\n",
    "            df = df.join(train_label.filter(pl.col('type')==f'{t}s')[['session', 'aid', 'gt']], on=['session', 'aid'], how='left')\n",
    "            df = df.with_column(pl.col('gt').fill_null(0))\n",
    "                        \n",
    "        df = df.join(user_feature, on='session',how='left').join(item_feature, on='aid', how='left').join(user_item_feature, on=['session', 'aid'], how='left')\n",
    "        \n",
    "        colname = ['co-visit', 'num_recommended_by_w2vec', 'num_recommended_by_bpr', 'user_click', \n",
    "               'user_cart', 'user_order', 'entire_click_count', 'entire_cart_count', 'entire_order_count', \n",
    "               'test_click_count', 'test_cart_count', 'test_order_count', 'num_clicked', 'num_carted', \n",
    "               'num_ordered', 'wgt', 'entire_action_count', 'test_action_count']\n",
    "        df = df.with_column(pl.col(colname).fill_null(0))\n",
    "\n",
    "        col_int32 = ['session', 'aid', 'entire_click_count']\n",
    "        col_uint16 = ['user_click', 'entire_cart_count', 'entire_order_count', 'test_click_count', \n",
    "                   'test_cart_count', 'test_order_count', 'action_num']\n",
    "        col_uint8 = [\n",
    "                   'user_cart', 'user_order', \n",
    "                   'num_clicked', 'num_carted', 'num_ordered'\n",
    "        ]\n",
    "\n",
    "        for colname, d_type in zip([col_int32, col_uint16, col_uint8], [pl.Int32, pl.UInt16, pl.UInt8]):\n",
    "            df = df.with_column(pl.col(colname).cast(d_type))\n",
    "\n",
    "        df.write_parquet(f'{phase}_{t}.parquet')\n",
    "        \n",
    "        del df\n",
    "        gc.collect()"
   ]
  },
  {
   "cell_type": "code",
   "execution_count": null,
   "id": "96012d31-9e72-4943-844b-e2a2ead5bb05",
   "metadata": {},
   "outputs": [],
   "source": [
    "join_candidate_and_feature('train')"
   ]
  },
  {
   "cell_type": "code",
   "execution_count": null,
   "id": "ce98fa5c-0e6b-41c0-bac2-9ebf9eb1a30e",
   "metadata": {},
   "outputs": [],
   "source": [
    "join_candidate_and_feature('test')"
   ]
  },
  {
   "cell_type": "code",
   "execution_count": null,
   "id": "e3028889-bce7-4790-a5ea-231d135a4857",
   "metadata": {},
   "outputs": [],
   "source": []
  }
 ],
 "metadata": {
  "kernelspec": {
   "display_name": "Python 3 (ipykernel)",
   "language": "python",
   "name": "python3"
  },
  "language_info": {
   "codemirror_mode": {
    "name": "ipython",
    "version": 3
   },
   "file_extension": ".py",
   "mimetype": "text/x-python",
   "name": "python",
   "nbconvert_exporter": "python",
   "pygments_lexer": "ipython3",
   "version": "3.7.12"
  }
 },
 "nbformat": 4,
 "nbformat_minor": 5
}
